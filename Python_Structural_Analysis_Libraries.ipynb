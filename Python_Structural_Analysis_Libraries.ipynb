{
 "cells": [
  {
   "cell_type": "markdown",
   "id": "d90dca20-8c9c-4385-b9b3-d0baf1f9f7c9",
   "metadata": {},
   "source": [
    "# Python Structural Analysis Tools"
   ]
  },
  {
   "cell_type": "markdown",
   "id": "7854af15-c2d0-403f-b5f0-cf8bac14926c",
   "metadata": {},
   "source": [
    "## PyCBA\n",
    "* 2D beam analysis with stiffness matrix\n",
    "\n",
    "https://ccaprani.github.io/pycba/index.html"
   ]
  },
  {
   "cell_type": "markdown",
   "id": "25b33470-43fb-442d-a49e-84e5533b9516",
   "metadata": {},
   "source": [
    "## Sectionproperties\n",
    "* Section analysis using FEM\n",
    "* Arbitrary cross-sections and composite sections\n",
    "* Linear stress analysis\n",
    "* Plastic properties\n",
    "* Warping properties\n",
    "\n",
    "https://sectionproperties.readthedocs.io/en/latest/"
   ]
  },
  {
   "cell_type": "markdown",
   "id": "005137c3-4cf4-42f5-b620-2ddee54e1c20",
   "metadata": {},
   "source": [
    "## Sympy Continuum Mechanics\n",
    "* 2D and 3D beam analysis\n",
    "* Direct integration method using computational algebra solver\n",
    "\n",
    "https://docs.sympy.org/latest/modules/physics/continuum_mechanics/beam.html"
   ]
  },
  {
   "cell_type": "markdown",
   "id": "7ef4282e-2673-4d5f-9521-9fb399f6c4c7",
   "metadata": {},
   "source": [
    "## Anastruct\n",
    "\n",
    "* 2D frame analysis\n",
    "* Geometrical non-linearity (buckling)\n",
    "\n",
    "https://github.com/ritchie46/anaStruct"
   ]
  },
  {
   "cell_type": "markdown",
   "id": "69fa5cc2-32a5-427c-ab08-80697ec44892",
   "metadata": {},
   "source": [
    "## Framat\n",
    "\n",
    "* 3D frame analysis\n",
    "\n",
    "https://framat.readthedocs.io/en/latest/"
   ]
  },
  {
   "cell_type": "markdown",
   "id": "08b39ea8-dbee-4196-9ed4-0ebec09f4217",
   "metadata": {},
   "source": [
    "## FEniCS\n",
    "* General purpose FEM library\n",
    "\n",
    "https://comet-fenics.readthedocs.io/en/latest/demo/beams_3D/beams_3D.html"
   ]
  },
  {
   "cell_type": "code",
   "execution_count": null,
   "id": "84ae5284-dabe-4476-82fb-0d4f7e31e205",
   "metadata": {},
   "outputs": [],
   "source": []
  }
 ],
 "metadata": {
  "kernelspec": {
   "display_name": "Python 3 (ipykernel)",
   "language": "python",
   "name": "python3"
  },
  "language_info": {
   "codemirror_mode": {
    "name": "ipython",
    "version": 3
   },
   "file_extension": ".py",
   "mimetype": "text/x-python",
   "name": "python",
   "nbconvert_exporter": "python",
   "pygments_lexer": "ipython3",
   "version": "3.9.7"
  }
 },
 "nbformat": 4,
 "nbformat_minor": 5
}
