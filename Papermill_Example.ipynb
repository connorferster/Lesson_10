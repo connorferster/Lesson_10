{
 "cells": [
  {
   "attachments": {
    "0df833fb-16b6-46d1-834f-4a1962fa49ed.png": {
     "image/png": "[encoded data removed]"
    }
   },
   "cell_type": "markdown",
   "id": "28fe2745-ffbf-4a81-871f-ebecb5afc1c3",
   "metadata": {},
   "source": [
    "![image.png](attachment:0df833fb-16b6-46d1-834f-4a1962fa49ed.png)\n",
    "\n",
    "# Running a parameterized notebook from another notebook"
   ]
  },
  {
   "cell_type": "code",
   "execution_count": 2,
   "id": "342749b8-3510-46d6-a24b-161bccbdaae0",
   "metadata": {},
   "outputs": [],
   "source": [
    "import papermill"
   ]
  },
  {
   "cell_type": "code",
   "execution_count": 4,
   "id": "2f75015e-5249-465a-aee4-d2a3f7079749",
   "metadata": {},
   "outputs": [],
   "source": [
    "notebook_to_run = \"Combined Axial and Moment Resistance.ipynb\""
   ]
  },
  {
   "cell_type": "code",
   "execution_count": 8,
   "id": "3e1d6621-70b0-4ca0-9adc-fb971f91e813",
   "metadata": {},
   "outputs": [],
   "source": [
    "# papermill.inspect_notebook(notebook_to_run)"
   ]
  },
  {
   "cell_type": "code",
   "execution_count": 10,
   "id": "e27b91a4-42bb-4834-8129-9c9cb1dcfbd0",
   "metadata": {},
   "outputs": [],
   "source": [
    "# papermill.execute_notebook(\n",
    "#    notebook_to_run,\n",
    "#    \"new_notebook.ipynb\",\n",
    "#    parameters={\"b\": 315, \"d\": 630}\n",
    "# )"
   ]
  },
  {
   "cell_type": "code",
   "execution_count": null,
   "id": "34004c87-bc4e-4c9a-8a15-3c2708ebd65f",
   "metadata": {},
   "outputs": [],
   "source": []
  }
 ],
 "metadata": {
  "kernelspec": {
   "display_name": "Python 3 (ipykernel)",
   "language": "python",
   "name": "python3"
  },
  "language_info": {
   "codemirror_mode": {
    "name": "ipython",
    "version": 3
   },
   "file_extension": ".py",
   "mimetype": "text/x-python",
   "name": "python",
   "nbconvert_exporter": "python",
   "pygments_lexer": "ipython3",
   "version": "3.9.7"
  }
 },
 "nbformat": 4,
 "nbformat_minor": 5
}
