{
 "cells": [
  {
   "cell_type": "code",
   "execution_count": 1340,
   "metadata": {},
   "outputs": [],
   "source": [
    "import forallpeople\n",
    "import handcalcs.render\n",
    "from rjc.jupyter import title_block\n",
    "import rjc.load_combinations as lc\n",
    "forallpeople.environment('structural', top_level=True)"
   ]
  },
  {
   "cell_type": "code",
   "execution_count": 1341,
   "metadata": {
    "tags": [
     "parameters"
    ]
   },
   "outputs": [],
   "source": [
    "# Inputs\n",
    "\n",
    "proj = \"UBC Gateway\"\n",
    "proj_id = \"VAN.126897.0001\"\n",
    "des = \"CMF\"\n",
    "member = \"Orange Hi Load (c13-r2) @ l03\"\n",
    "\n",
    "# Program assumes that supports occur in the x-axis and y-axis concurrently\n",
    "# i.e. L = L_x = L_y; L_u = L_u_x = L_u_y\n",
    "# i.e. K_e = K_e_x = K_e_y\n",
    "\n",
    "b = 215\n",
    "d = 570\n",
    "\n",
    "L = 4\n",
    "L_u = 4\n",
    "a = 4 # Purlin spacing for lateral support for bending\n",
    "K_e = 1.0\n",
    "n_plies = 2\n",
    "\n",
    "Grade = \"16c-E\"\n",
    "f_b_x = 14. # 30.6-24f-EX, 23.0-24f-E, 14.0-16c-E\n",
    "f_b_y = 10.0 # f_b is taken as per No. 2 material from Table 6.3.1A\n",
    "f_c = 32.0\n",
    "E = 12800\n",
    "K_T = 1\n",
    "K_H = 1\n",
    "K_S = 1\n",
    "K_D = 0.88 # Check your DL and LL loads and confirm this applies\n",
    "\n",
    "# For calculating K_D, area loads okay\n",
    "P_f = 2024 # If P_f given, service loads ignored\n",
    "\n",
    "e_x = 30#abs(d/2 - 418/2) #0.015 * d/2#abs(200 - d/2)  #d*0.05\n",
    "e_y = 20 #0.015 * d/2#abs(200 - d/2)  #d*0.05\n",
    "\n",
    "M_f_x = 0 # If M_f given, service loads ignored\n",
    "M_f_y = 0 # If M_f given, service loads ignored_x\n"
   ]
  },
  {
   "cell_type": "code",
   "execution_count": 1342,
   "metadata": {
    "tags": [
     "parameters"
    ]
   },
   "outputs": [],
   "source": [
    "# Inputs\n",
    "\n",
    "b = b*mm\n",
    "d = d*mm\n",
    "L = L*m\n",
    "L_u = L_u*m\n",
    "a = a*m\n",
    "\n",
    "f_b_x = f_b_x* MPa\n",
    "f_b_y = f_b_y* MPa\n",
    "f_c = f_c * MPa\n",
    "E = E * MPa\n",
    "\n",
    "# For calculating K_D, area loads okay\n",
    "P_f = P_f * kN\n",
    "\n",
    "e_x = e_x*mm\n",
    "e_y = e_y*mm\n",
    "\n",
    "M_f_x = M_f_x * kN*m\n",
    "M_f_y = M_f_y * kN*m\n"
   ]
  },
  {
   "cell_type": "code",
   "execution_count": 1343,
   "metadata": {},
   "outputs": [
    {
     "data": {
      "text/markdown": [
       "**Project:** UBC Gateway<br>\n",
       "**Project ID:** VAN.126897.0001<br>\n",
       "**Designer:** CMF<br>\n",
       "**Date:** 2022-04-06<br>\n",
       "**Member:** Orange Hi Load (c13-r2) @ l03<br>\n"
      ],
      "text/plain": [
       "<IPython.core.display.Markdown object>"
      ]
     },
     "metadata": {},
     "output_type": "display_data"
    }
   ],
   "source": [
    "title_block(proj, proj_id, des, Member=member)"
   ]
  },
  {
   "cell_type": "markdown",
   "metadata": {},
   "source": [
    "# Compressive Resistance of Glulam Members (w/ Combined Bending)\n",
    "As per CSA O86-14 Cl. 7\n",
    "\n",
    "Assumes:\n",
    "\n",
    "* $L = L_x = L_y$"
   ]
  },
  {
   "cell_type": "markdown",
   "metadata": {
    "tags": []
   },
   "source": [
    "# Loads"
   ]
  },
  {
   "cell_type": "code",
   "execution_count": 1344,
   "metadata": {},
   "outputs": [
    {
     "data": {
      "text/latex": [
       "\\[\n",
       "\\begin{aligned}\n",
       "P_{f} &= 2.024\\ \\text{MN} \\;\\end{aligned}\n",
       "\\]"
      ],
      "text/plain": [
       "<IPython.core.display.Latex object>"
      ]
     },
     "metadata": {},
     "output_type": "display_data"
    }
   ],
   "source": [
    "%%render params\n",
    "P_f"
   ]
  },
  {
   "cell_type": "code",
   "execution_count": 1345,
   "metadata": {},
   "outputs": [
    {
     "data": {
      "text/latex": [
       "\\[\n",
       "\\begin{aligned}\n",
       "M_{ecc_{x}} &= P_{f} \\cdot e_{x}  = 2.024\\ \\text{MN} \\cdot 30.000\\ \\text{mm} &= 60.720\\ \\text{kN} \\cdot \\text{m}  \n",
       "\\\\[10pt]\n",
       "M_{ecc_{y}} &= P_{f} \\cdot e_{y}  = 2.024\\ \\text{MN} \\cdot 20.000\\ \\text{mm} &= 40.480\\ \\text{kN} \\cdot \\text{m}  \n",
       "\\end{aligned}\n",
       "\\]"
      ],
      "text/plain": [
       "<IPython.core.display.Latex object>"
      ]
     },
     "metadata": {},
     "output_type": "display_data"
    }
   ],
   "source": [
    "%%render\n",
    "M_ecc_x = P_f * e_x\n",
    "M_ecc_y = P_f * e_y"
   ]
  },
  {
   "cell_type": "code",
   "execution_count": 1346,
   "metadata": {},
   "outputs": [
    {
     "data": {
      "text/latex": [
       "\\[\n",
       "\\begin{aligned}\n",
       "M_{f_{x_{total}}} &= M_{f_{x}} + M_{ecc_{x}}  = 0.000\\ \\text{N} \\cdot \\text{m} + 60.720\\ \\text{kN} \\cdot \\text{m} &= 60.720\\ \\text{kN} \\cdot \\text{m}  \n",
       "\\\\[10pt]\n",
       "M_{f_{y_{total}}} &= M_{f_{y}} + M_{ecc_{y}}  = 0.000\\ \\text{N} \\cdot \\text{m} + 40.480\\ \\text{kN} \\cdot \\text{m} &= 40.480\\ \\text{kN} \\cdot \\text{m}  \n",
       "\\end{aligned}\n",
       "\\]"
      ],
      "text/plain": [
       "<IPython.core.display.Latex object>"
      ]
     },
     "metadata": {},
     "output_type": "display_data"
    }
   ],
   "source": [
    "%%render\n",
    "M_f_x_total = M_f_x + M_ecc_x\n",
    "M_f_y_total = M_f_y + M_ecc_y"
   ]
  },
  {
   "cell_type": "code",
   "execution_count": null,
   "metadata": {},
   "outputs": [],
   "source": []
  },
  {
   "cell_type": "markdown",
   "metadata": {},
   "source": [
    "# Section Properties"
   ]
  },
  {
   "cell_type": "code",
   "execution_count": 1347,
   "metadata": {},
   "outputs": [
    {
     "data": {
      "text/latex": [
       "\\[\n",
       "\\begin{aligned}\n",
       "b &= 215.000\\ \\text{mm} \\; \n",
       " &d &= 570.000\\ \\text{mm} \\; \n",
       " &L &= 4.000\\ \\text{m} \\; \n",
       "\\\\[10pt]\n",
       " L_{u} &= 4.000\\ \\text{m} \\; \n",
       " &K_{e} &= 1.0 \\; \n",
       " &L_{e} &= 4.000\\ \\text{m} \\; \n",
       "\\\\[10pt]\n",
       " \\mathrm{Grade} &= \\mathrm{16c-E} \\; \n",
       " &f_{b_{x}} &= 14.000\\ \\text{MPa} \\; \n",
       " &f_{b_{y}} &= 10.000\\ \\text{MPa} \\; \n",
       "\\\\[10pt]\n",
       " f_{c} &= 32.000\\ \\text{MPa} \\; \n",
       " &E &= 12.800\\ \\text{GPa} \\;\\end{aligned}\n",
       "\\]"
      ],
      "text/plain": [
       "<IPython.core.display.Latex object>"
      ]
     },
     "metadata": {},
     "output_type": "display_data"
    }
   ],
   "source": [
    "%%render params\n",
    "b\n",
    "d\n",
    "L\n",
    "L_u\n",
    "K_e\n",
    "L_e = K_e * L \n",
    "Grade\n",
    "f_b_x\n",
    "f_b_y\n",
    "f_c\n",
    "E"
   ]
  },
  {
   "cell_type": "code",
   "execution_count": 1348,
   "metadata": {},
   "outputs": [
    {
     "data": {
      "text/latex": [
       "\\[\n",
       "\\begin{aligned}\n",
       "S_{x} &= 11642250.000\\ \\text{mm}^{3} \\; \n",
       " &I_{x} &= 3318041250.000\\ \\text{mm}^{4} \\; \n",
       " &S_{y} &= 4391375.000\\ \\text{mm}^{3} \\; \n",
       "\\\\[10pt]\n",
       " I_{y} &= 472072812.500\\ \\text{mm}^{4} \\;\\end{aligned}\n",
       "\\]"
      ],
      "text/plain": [
       "<IPython.core.display.Latex object>"
      ]
     },
     "metadata": {},
     "output_type": "display_data"
    }
   ],
   "source": [
    "%%render params\n",
    "S_x = b * d**2 / 6\n",
    "I_x = b * d**3 / 12\n",
    "S_y = d * b**2 / 6\n",
    "I_y = d * b**3 / 12"
   ]
  },
  {
   "cell_type": "markdown",
   "metadata": {},
   "source": [
    "### Modification Factors"
   ]
  },
  {
   "cell_type": "code",
   "execution_count": 1349,
   "metadata": {},
   "outputs": [
    {
     "data": {
      "text/latex": [
       "\\[\n",
       "\\begin{aligned}\n",
       "K_{T} &= 1 \\; \n",
       " &K_{H} &= 1 \\; \n",
       " &K_{S} &= 1 \\; \n",
       "\\\\[10pt]\n",
       " K_{D} &= 0.88 \\;\\end{aligned}\n",
       "\\]"
      ],
      "text/plain": [
       "<IPython.core.display.Latex object>"
      ]
     },
     "metadata": {},
     "output_type": "display_data"
    }
   ],
   "source": [
    "%%render params\n",
    "K_T\n",
    "K_H\n",
    "K_S\n",
    "K_D"
   ]
  },
  {
   "cell_type": "markdown",
   "metadata": {},
   "source": [
    "## Factored Stress Resistance"
   ]
  },
  {
   "cell_type": "code",
   "execution_count": 1350,
   "metadata": {},
   "outputs": [
    {
     "data": {
      "text/latex": [
       "\\[\n",
       "\\begin{aligned}\n",
       "F_{c} &= f_{c} \\cdot \\left( K_{T} \\cdot K_{H} \\cdot K_{D} \\cdot K_{S} \\right)  = 32.000\\ \\text{MPa} \\cdot \\left( 1 \\cdot 1 \\cdot 0.88 \\cdot 1 \\right) &= 28.160\\ \\text{MPa}  \n",
       "\\end{aligned}\n",
       "\\]"
      ],
      "text/plain": [
       "<IPython.core.display.Latex object>"
      ]
     },
     "metadata": {},
     "output_type": "display_data"
    }
   ],
   "source": [
    "%%render\n",
    "F_c = f_c * (K_T * K_H * K_D * K_S)"
   ]
  },
  {
   "cell_type": "markdown",
   "metadata": {},
   "source": [
    "# Axial Resistance"
   ]
  },
  {
   "cell_type": "markdown",
   "metadata": {},
   "source": [
    "## Slenderness Ratio, $C_c$"
   ]
  },
  {
   "cell_type": "code",
   "execution_count": 1351,
   "metadata": {},
   "outputs": [
    {
     "data": {
      "text/latex": [
       "\\[\n",
       "\\begin{aligned}\n",
       "C_{c_{x}} &= \\frac{ L_{e} }{ d }  = \\frac{ 4.000\\ \\text{m} }{ 570.000\\ \\text{mm} } &= 7.018  \n",
       "\\\\[10pt]\n",
       "C_{c_{y}} &= \\frac{ L_{e} }{ b }  = \\frac{ 4.000\\ \\text{m} }{ 215.000\\ \\text{mm} } &= 18.605  \n",
       "\\end{aligned}\n",
       "\\]"
      ],
      "text/plain": [
       "<IPython.core.display.Latex object>"
      ]
     },
     "metadata": {},
     "output_type": "display_data"
    }
   ],
   "source": [
    "%%render\n",
    "C_c_x = L_e / d\n",
    "C_c_y = L_e / b"
   ]
  },
  {
   "cell_type": "markdown",
   "metadata": {},
   "source": [
    "## Size Factor, $K_{Zcg}$"
   ]
  },
  {
   "cell_type": "code",
   "execution_count": 1352,
   "metadata": {},
   "outputs": [
    {
     "data": {
      "text/latex": [
       "\\[\n",
       "\\begin{aligned}\n",
       "Z &= \\left( L \\cdot b \\cdot d \\right)  = \\left( 4.000\\ \\text{m} \\cdot 215.000\\ \\text{mm} \\cdot 570.000\\ \\text{mm} \\right) &= 0.490\\ \\text{m}^{3}  \n",
       "\\\\[10pt]\n",
       "K_{Zcg} &= \\operatorname{min} { \\left( 0.68 \\cdot \\left( \\operatorname{float} { \\left( Z \\right) } \\right) ^{ -0.13 } ,\\  1.0 \\right) }  = \\operatorname{min} { \\left( 0.68 \\cdot \\left( \\operatorname{float} { \\left( 0.490\\ \\text{m}^{3} \\right) } \\right) ^{ -0.13 } ,\\  1.0 \\right) } &= 0.746  \n",
       "\\end{aligned}\n",
       "\\]"
      ],
      "text/plain": [
       "<IPython.core.display.Latex object>"
      ]
     },
     "metadata": {},
     "output_type": "display_data"
    }
   ],
   "source": [
    "%%render short\n",
    "Z = (L * b * d).prefix('unity')\n",
    "K_Zcg  = min(0.68*(float(Z))**-0.13, 1.0)"
   ]
  },
  {
   "cell_type": "markdown",
   "metadata": {},
   "source": [
    "## Slenderness Factor, $K_C$"
   ]
  },
  {
   "cell_type": "code",
   "execution_count": 1353,
   "metadata": {},
   "outputs": [
    {
     "data": {
      "text/latex": [
       "\\[\n",
       "\\begin{aligned}\n",
       "E_{05} &= 0.87 \\cdot E  = 0.87 \\cdot 12.800\\ \\text{GPa} &= 11.136\\ \\text{GPa} \\; \\;\\textrm{(Cl 7.5.8.5)}\n",
       "\\\\[10pt]\n",
       "K_{C_{x}} &= \\left( 1.0 + \\frac{ F_{c} \\cdot K_{Zcg} \\cdot \\left( C_{c_{x}} \\right) ^{ 3 } }{ 35 \\cdot E_{05} \\cdot K_{S} \\cdot K_{T} } \\right) ^{ -1 } \\\\&= \\left( 1.0 + \\frac{ 28.160\\ \\text{MPa} \\cdot 0.746 \\cdot \\left( 7.018 \\right) ^{ 3 } }{ 35 \\cdot 11.136\\ \\text{GPa} \\cdot 1 \\cdot 1 } \\right) ^{ -1 } \\\\&= 9.817 \\times 10 ^ {-1 }  \\\\\n",
       "\\\\[10pt]\n",
       "K_{C_{y}} &= \\left( 1.0 + \\frac{ F_{c} \\cdot K_{Zcg} \\cdot \\left( C_{c_{y}} \\right) ^{ 3 } }{ 35 \\cdot E_{05} \\cdot K_{S} \\cdot K_{T} } \\right) ^{ -1 } \\\\&= \\left( 1.0 + \\frac{ 28.160\\ \\text{MPa} \\cdot 0.746 \\cdot \\left( 18.605 \\right) ^{ 3 } }{ 35 \\cdot 11.136\\ \\text{GPa} \\cdot 1 \\cdot 1 } \\right) ^{ -1 } \\\\&= 7.423 \\times 10 ^ {-1 }  \\\\\n",
       "\\end{aligned}\n",
       "\\]"
      ],
      "text/plain": [
       "<IPython.core.display.Latex object>"
      ]
     },
     "metadata": {},
     "output_type": "display_data"
    }
   ],
   "source": [
    "%%render\n",
    "E_05 = 0.87 * E # Cl 7.5.8.5\n",
    "K_C_x = (1.0 + (F_c * K_Zcg * C_c_x**3) / (35*E_05*K_S*K_T))**-1\n",
    "K_C_y = (1.0 + (F_c * K_Zcg * C_c_y**3) / (35*E_05*K_S*K_T))**-1"
   ]
  },
  {
   "cell_type": "markdown",
   "metadata": {},
   "source": [
    "## Factored Compressive Resistance, $P_r$"
   ]
  },
  {
   "cell_type": "code",
   "execution_count": 1354,
   "metadata": {},
   "outputs": [
    {
     "data": {
      "text/latex": [
       "\\[\n",
       "\\begin{aligned}\n",
       "\\phi &= 0.8 \\; \n",
       "\\\\[10pt]\n",
       "A &= b \\cdot d  = 215.000\\ \\text{mm} \\cdot 570.000\\ \\text{mm} &= 122550.000\\ \\text{mm}^{2}  \n",
       "\\end{aligned}\n",
       "\\]"
      ],
      "text/plain": [
       "<IPython.core.display.Latex object>"
      ]
     },
     "metadata": {},
     "output_type": "display_data"
    }
   ],
   "source": [
    "%%render\n",
    "phi = 0.8\n",
    "A = b * d"
   ]
  },
  {
   "cell_type": "code",
   "execution_count": 1355,
   "metadata": {},
   "outputs": [
    {
     "data": {
      "text/latex": [
       "\\[\n",
       "\\begin{aligned}\n",
       "P_{r_{x}} &= \\phi \\cdot F_{c} \\cdot A \\cdot n_{plies} \\cdot K_{Zcg} \\cdot K_{C_{x}} \\\\&= 0.8 \\cdot 28.160\\ \\text{MPa} \\cdot 122550.000\\ \\text{mm}^{2} \\cdot 2 \\cdot 0.746 \\cdot 9.817 \\times 10 ^ {-1 } \\\\&= 4.044\\ \\text{MN}  \\\\\n",
       "\\\\[10pt]\n",
       "P_{r_{y}} &= \\phi \\cdot F_{c} \\cdot A \\cdot n_{plies} \\cdot K_{Zcg} \\cdot K_{C_{y}} \\\\&= 0.8 \\cdot 28.160\\ \\text{MPa} \\cdot 122550.000\\ \\text{mm}^{2} \\cdot 2 \\cdot 0.746 \\cdot 7.423 \\times 10 ^ {-1 } \\\\&= 3.058\\ \\text{MN}  \\\\\n",
       "\\end{aligned}\n",
       "\\]"
      ],
      "text/plain": [
       "<IPython.core.display.Latex object>"
      ]
     },
     "metadata": {},
     "output_type": "display_data"
    }
   ],
   "source": [
    "%%render long\n",
    "P_r_x = phi * F_c * A * n_plies * K_Zcg * K_C_x\n",
    "P_r_y = phi * F_c * A * n_plies * K_Zcg * K_C_y"
   ]
  },
  {
   "cell_type": "markdown",
   "metadata": {},
   "source": [
    "## Euler Buckling Load"
   ]
  },
  {
   "cell_type": "code",
   "execution_count": 1356,
   "metadata": {},
   "outputs": [],
   "source": [
    "from math import pi"
   ]
  },
  {
   "cell_type": "code",
   "execution_count": 1357,
   "metadata": {},
   "outputs": [
    {
     "data": {
      "text/latex": [
       "\\[\n",
       "\\begin{aligned}\n",
       "P_{E_{x}} &= \\frac{ \\left( \\pi \\right) ^{ 2 } \\cdot E_{05} \\cdot K_{S} \\cdot K_{T} \\cdot I_{x} }{ \\left( L_{e} \\right) ^{ 2 } } \\cdot n_{plies} \\\\&= \\frac{ \\left( 3.142 \\right) ^{ 2 } \\cdot 11.136\\ \\text{GPa} \\cdot 1 \\cdot 1 \\cdot 3318041250.000\\ \\text{mm}^{4} }{ \\left( 4.000\\ \\text{m} \\right) ^{ 2 } } \\cdot 2 \\\\&= 45.585\\ \\text{MN}  \\\\\n",
       "\\\\[10pt]\n",
       "P_{E_{y}} &= \\frac{ \\left( \\pi \\right) ^{ 2 } \\cdot E_{05} \\cdot K_{S} \\cdot K_{T} \\cdot I_{y} }{ \\left( L_{e} \\right) ^{ 2 } } \\cdot n_{plies} \\\\&= \\frac{ \\left( 3.142 \\right) ^{ 2 } \\cdot 11.136\\ \\text{GPa} \\cdot 1 \\cdot 1 \\cdot 472072812.500\\ \\text{mm}^{4} }{ \\left( 4.000\\ \\text{m} \\right) ^{ 2 } } \\cdot 2 \\\\&= 6.486\\ \\text{MN}  \\\\\n",
       "\\end{aligned}\n",
       "\\]"
      ],
      "text/plain": [
       "<IPython.core.display.Latex object>"
      ]
     },
     "metadata": {},
     "output_type": "display_data"
    }
   ],
   "source": [
    "%%render long\n",
    "P_E_x = (pi**2 * E_05 * K_S * K_T * I_x) / L_e**2 * n_plies\n",
    "P_E_y = (pi**2 * E_05 * K_S * K_T * I_y) / L_e**2 * n_plies"
   ]
  },
  {
   "cell_type": "markdown",
   "metadata": {},
   "source": [
    "## Secondary Moment Factor"
   ]
  },
  {
   "cell_type": "code",
   "execution_count": 1358,
   "metadata": {},
   "outputs": [
    {
     "data": {
      "text/latex": [
       "\\[\n",
       "\\begin{aligned}\n",
       "K_{mo_{2nd_{x}}} &= \\left( \\frac{ 1 }{ 1 - \\frac{ P_{f} }{ P_{E_{x}} } } \\right)  = \\left( \\frac{ 1 }{ 1 - \\frac{ 2.024\\ \\text{MN} }{ 45.585\\ \\text{MN} } } \\right) &= 1.046  \n",
       "\\\\[10pt]\n",
       "K_{mo_{2nd_{y}}} &= \\left( \\frac{ 1 }{ 1 - \\frac{ P_{f} }{ P_{E_{y}} } } \\right)  = \\left( \\frac{ 1 }{ 1 - \\frac{ 2.024\\ \\text{MN} }{ 6.486\\ \\text{MN} } } \\right) &= 1.454  \n",
       "\\end{aligned}\n",
       "\\]"
      ],
      "text/plain": [
       "<IPython.core.display.Latex object>"
      ]
     },
     "metadata": {},
     "output_type": "display_data"
    }
   ],
   "source": [
    "%%render\n",
    "K_mo_2nd_x = (1 / (1 - P_f/P_E_x))\n",
    "K_mo_2nd_y = (1 / (1 - P_f/P_E_y))"
   ]
  },
  {
   "cell_type": "markdown",
   "metadata": {
    "tags": []
   },
   "source": [
    "# Bending Resistance"
   ]
  },
  {
   "cell_type": "markdown",
   "metadata": {},
   "source": [
    "## Factored Stress Resistance"
   ]
  },
  {
   "cell_type": "code",
   "execution_count": 1359,
   "metadata": {},
   "outputs": [
    {
     "data": {
      "text/latex": [
       "\\[\n",
       "\\begin{aligned}\n",
       "F_{b_{x}} &= f_{b_{x}} \\cdot \\left( K_{T} \\cdot K_{H} \\cdot K_{D} \\cdot K_{S} \\right)  = 14.000\\ \\text{MPa} \\cdot \\left( 1 \\cdot 1 \\cdot 0.88 \\cdot 1 \\right) &= 12.320\\ \\text{MPa}  \n",
       "\\\\[10pt]\n",
       "F_{b_{y}} &= f_{b_{y}} \\cdot \\left( K_{T} \\cdot K_{H} \\cdot K_{D} \\cdot K_{S} \\right)  = 10.000\\ \\text{MPa} \\cdot \\left( 1 \\cdot 1 \\cdot 0.88 \\cdot 1 \\right) &= 8.800\\ \\text{MPa}  \n",
       "\\end{aligned}\n",
       "\\]"
      ],
      "text/plain": [
       "<IPython.core.display.Latex object>"
      ]
     },
     "metadata": {},
     "output_type": "display_data"
    }
   ],
   "source": [
    "%%render\n",
    "F_b_x = f_b_x * (K_T * K_H * K_D * K_S)\n",
    "F_b_y = f_b_y * (K_T * K_H * K_D * K_S)"
   ]
  },
  {
   "cell_type": "markdown",
   "metadata": {},
   "source": [
    "## Lateral Stability Factor, $K_L$"
   ]
  },
  {
   "cell_type": "code",
   "execution_count": 1360,
   "metadata": {},
   "outputs": [],
   "source": [
    "from math import sqrt"
   ]
  },
  {
   "cell_type": "code",
   "execution_count": 1361,
   "metadata": {},
   "outputs": [
    {
     "data": {
      "text/latex": [
       "\\[\n",
       "\\begin{aligned}\n",
       "&\\text{Since, } M_{f_{x}} = 0 \\rightarrow \\left( 0.000\\ \\text{N} \\cdot \\text{m} = 0 \\right) : \\; \\;\\textrm{(No applied lateral loads)} \\end{aligned}\n",
       "\\]\n",
       "\\[\n",
       "\\begin{aligned}\n",
       "L_{e} &= 4.000\\ \\text{m} \\; \n",
       "\\\\[10pt]\n",
       "C_{b_{x}} &= \\sqrt { \\frac{ L_{e} \\cdot d }{ \\left( b \\right) ^{ 2 } } }  = \\sqrt { \\frac{ 4.000\\ \\text{m} \\cdot 570.000\\ \\text{mm} }{ \\left( 215.000\\ \\text{mm} \\right) ^{ 2 } } } &= 7.023  \n",
       "\\\\[10pt]\n",
       "C_{b_{y}} &= \\sqrt { \\frac{ L_{e} \\cdot b }{ \\left( d \\right) ^{ 2 } } }  = \\sqrt { \\frac{ 4.000\\ \\text{m} \\cdot 215.000\\ \\text{mm} }{ \\left( 570.000\\ \\text{mm} \\right) ^{ 2 } } } &= 1.627  \n",
       "\\\\[10pt]\n",
       "C_{k_{x}} &= \\sqrt { \\frac{ 0.97 \\cdot E \\cdot K_{S} \\cdot K_{T} }{ F_{b_{x}} } }  = \\sqrt { \\frac{ 0.97 \\cdot 12.800\\ \\text{GPa} \\cdot 1 \\cdot 1 }{ 12.320\\ \\text{MPa} } } &= 31.746  \n",
       "\\\\[10pt]\n",
       "C_{k_{y}} &= \\sqrt { \\frac{ 0.97 \\cdot E \\cdot K_{S} \\cdot K_{T} }{ F_{b_{y}} } }  = \\sqrt { \\frac{ 0.97 \\cdot 12.800\\ \\text{GPa} \\cdot 1 \\cdot 1 }{ 8.800\\ \\text{MPa} } } &= 37.562  \n",
       "\\end{aligned}\n",
       "\\]"
      ],
      "text/plain": [
       "<IPython.core.display.Latex object>"
      ]
     },
     "metadata": {},
     "output_type": "display_data"
    }
   ],
   "source": [
    "%%render\n",
    "if (M_f_x == 0) and (M_f_y == 0): L_e = L_u # No applied lateral loads\n",
    "else: L_e = 1.92*a\n",
    "C_b_x = sqrt((L_e * d) / (b ** 2))\n",
    "C_b_y = sqrt((L_e * b) / (d ** 2))\n",
    "C_k_x = sqrt((0.97 * E * K_S * K_T) / F_b_x)\n",
    "C_k_y = sqrt((0.97 * E * K_S * K_T) / F_b_y)"
   ]
  },
  {
   "cell_type": "code",
   "execution_count": 1362,
   "metadata": {},
   "outputs": [
    {
     "data": {
      "text/latex": [
       "\\[\n",
       "\\begin{aligned}\n",
       "&\\text{Since, } C_{b_{x}} \\leq 10 \\rightarrow \\left( 7.023 \\leq 10 \\right) :   \\end{aligned}\n",
       "\\]\n",
       "\\[\n",
       "\\begin{aligned}\n",
       "K_{L_{x}} &= 1.0 \\; \n",
       "\\end{aligned}\n",
       "\\]"
      ],
      "text/plain": [
       "<IPython.core.display.Latex object>"
      ]
     },
     "metadata": {},
     "output_type": "display_data"
    }
   ],
   "source": [
    "%%render\n",
    "if C_b_x <= 10: K_L_x = 1.0\n",
    "elif 10 <= C_b_x <= C_k_x: K_L_x = 1 - 1 / 3 * (C_b_x / C_k_x) ** 4\n",
    "elif C_k_x <= C_b_x <= 50: K_L_x = (0.65 * E * K_S * K_T) / (C_b_x ** 2 * F_b_x)\n",
    "elif C_b_x > 50: K_L_x = 0  # Cb is out of range"
   ]
  },
  {
   "cell_type": "code",
   "execution_count": 1363,
   "metadata": {},
   "outputs": [
    {
     "data": {
      "text/latex": [
       "\\[\n",
       "\\begin{aligned}\n",
       "&\\text{Since, } C_{b_{y}} \\leq 10 \\rightarrow \\left( 1.627 \\leq 10 \\right) :   \\end{aligned}\n",
       "\\]\n",
       "\\[\n",
       "\\begin{aligned}\n",
       "K_{L_{y}} &= 1.0 \\; \n",
       "\\end{aligned}\n",
       "\\]"
      ],
      "text/plain": [
       "<IPython.core.display.Latex object>"
      ]
     },
     "metadata": {},
     "output_type": "display_data"
    }
   ],
   "source": [
    "%%render\n",
    "if C_b_y <= 10: K_L_y = 1.0\n",
    "elif 10 <= C_b_y <= C_k_y: K_L_y = 1 - 1 / 3 * (C_b_y / C_k_y) ** 4\n",
    "elif C_k_y <= C_b_y <= 50: K_L_y = (0.65 * E * K_S * K_T) / (C_b_y ** 2 * F_b_y)\n",
    "elif C_b_y > 50: K_L_y = 0  # Cb is out of range"
   ]
  },
  {
   "cell_type": "markdown",
   "metadata": {},
   "source": [
    "## Size Factor, $K_{Zbg}$\n",
    "Woodworks Sizer uses lamination width for $K_{Zbg}$. This calculation uses full member width."
   ]
  },
  {
   "cell_type": "code",
   "execution_count": 1364,
   "metadata": {},
   "outputs": [
    {
     "data": {
      "text/latex": [
       "\\[\n",
       "\\begin{aligned}\n",
       "K_{Zbg} &= \\left( \\left( \\frac{ 130 \\cdot \\mathrm{mm} }{ b } \\right) ^{ \\left( \\frac{ 1 }{ 10 } \\right) } \\cdot \\left( \\frac{ 610 \\cdot \\mathrm{mm} }{ d } \\right) ^{ \\left( \\frac{ 1 }{ 10 } \\right) } \\cdot \\left( \\frac{ 9100 \\cdot \\mathrm{mm} }{ L } \\right) ^{ \\left( \\frac{ 1 }{ 10 } \\right) } \\right) \\\\&= \\left( \\left( \\frac{ 130 \\cdot mm }{ 215.000\\ \\text{mm} } \\right) ^{ \\left( \\frac{ 1 }{ 10 } \\right) } \\cdot \\left( \\frac{ 610 \\cdot mm }{ 570.000\\ \\text{mm} } \\right) ^{ \\left( \\frac{ 1 }{ 10 } \\right) } \\cdot \\left( \\frac{ 9100 \\cdot mm }{ 4.000\\ \\text{m} } \\right) ^{ \\left( \\frac{ 1 }{ 10 } \\right) } \\right) \\\\&= 1.039  \\\\\n",
       "\\\\[10pt]\n",
       "K_{Zbg} &= \\operatorname{min} { \\left( 1.3 ,\\  K_{Zbg} \\right) }  = \\operatorname{min} { \\left( 1.3 ,\\  1.039 \\right) } &= 1.039  \n",
       "\\end{aligned}\n",
       "\\]"
      ],
      "text/plain": [
       "<IPython.core.display.Latex object>"
      ]
     },
     "metadata": {},
     "output_type": "display_data"
    }
   ],
   "source": [
    "%%render\n",
    "K_Zbg = (((130 * mm) / b) ** (1 / 10) * ((610 * mm) / d) ** (1 / 10) * ((9100 * mm) / L) ** (1 / 10))\n",
    "K_Zbg = min(1.3, K_Zbg)"
   ]
  },
  {
   "cell_type": "markdown",
   "metadata": {},
   "source": [
    "# Moment Resistance, $M_{r1}$ and $M_{r2}$"
   ]
  },
  {
   "cell_type": "markdown",
   "metadata": {},
   "source": [
    "### Strong axis (x)"
   ]
  },
  {
   "cell_type": "code",
   "execution_count": 1365,
   "metadata": {},
   "outputs": [
    {
     "data": {
      "text/latex": [
       "\\[\n",
       "\\begin{aligned}\n",
       "M_{r1_{x}} &= \\phi \\cdot F_{b_{x}} \\cdot S_{x} \\cdot K_{Zbg}  = 0.8 \\cdot 12.320\\ \\text{MPa} \\cdot 11642250.000\\ \\text{mm}^{3} \\cdot 1.039 &= 119.270\\ \\text{kN} \\cdot \\text{m}  \n",
       "\\\\[10pt]\n",
       "M_{r2_{x}} &= \\phi \\cdot F_{b_{x}} \\cdot S_{x} \\cdot K_{L_{x}}  = 0.8 \\cdot 12.320\\ \\text{MPa} \\cdot 11642250.000\\ \\text{mm}^{3} \\cdot 1.0 &= 114.746\\ \\text{kN} \\cdot \\text{m}  \n",
       "\\\\[10pt]\n",
       "M_{r_{x}} &= \\operatorname{min} { \\left( M_{r1_{x}} ,\\  M_{r2_{x}} \\right) } \\cdot n_{plies}  = \\operatorname{min} { \\left( 119.270\\ \\text{kN} \\cdot \\text{m} ,\\  114.746\\ \\text{kN} \\cdot \\text{m} \\right) } \\cdot 2 &= 229.492\\ \\text{kN} \\cdot \\text{m}  \n",
       "\\end{aligned}\n",
       "\\]"
      ],
      "text/plain": [
       "<IPython.core.display.Latex object>"
      ]
     },
     "metadata": {},
     "output_type": "display_data"
    }
   ],
   "source": [
    "%%render\n",
    "M_r1_x = phi * F_b_x * S_x * K_Zbg\n",
    "M_r2_x = phi * F_b_x * S_x * K_L_x\n",
    "M_r_x = min(M_r1_x, M_r2_x) * n_plies"
   ]
  },
  {
   "cell_type": "markdown",
   "metadata": {},
   "source": [
    "### Weak axis (y)"
   ]
  },
  {
   "cell_type": "code",
   "execution_count": 1366,
   "metadata": {},
   "outputs": [
    {
     "data": {
      "text/latex": [
       "\\[\n",
       "\\begin{aligned}\n",
       "M_{r1_{y}} &= \\phi \\cdot F_{b_{y}} \\cdot S_{y} \\cdot K_{Zbg}  = 0.8 \\cdot 8.800\\ \\text{MPa} \\cdot 4391375.000\\ \\text{mm}^{3} \\cdot 1.039 &= 32.134\\ \\text{kN} \\cdot \\text{m}  \n",
       "\\\\[10pt]\n",
       "M_{r2_{y}} &= \\phi \\cdot F_{b_{y}} \\cdot S_{y} \\cdot K_{L_{y}}  = 0.8 \\cdot 8.800\\ \\text{MPa} \\cdot 4391375.000\\ \\text{mm}^{3} \\cdot 1.0 &= 30.915\\ \\text{kN} \\cdot \\text{m}  \n",
       "\\\\[10pt]\n",
       "M_{r_{y}} &= \\operatorname{min} { \\left( M_{r1_{y}} ,\\  M_{r2_{y}} \\right) } \\cdot n_{plies}  = \\operatorname{min} { \\left( 32.134\\ \\text{kN} \\cdot \\text{m} ,\\  30.915\\ \\text{kN} \\cdot \\text{m} \\right) } \\cdot 2 &= 61.831\\ \\text{kN} \\cdot \\text{m}  \n",
       "\\end{aligned}\n",
       "\\]"
      ],
      "text/plain": [
       "<IPython.core.display.Latex object>"
      ]
     },
     "metadata": {},
     "output_type": "display_data"
    }
   ],
   "source": [
    "%%render\n",
    "M_r1_y = phi * F_b_y * S_y * K_Zbg\n",
    "M_r2_y = phi * F_b_y * S_y * K_L_y\n",
    "M_r_y = min(M_r1_y, M_r2_y) * n_plies"
   ]
  },
  {
   "cell_type": "markdown",
   "metadata": {},
   "source": [
    "## Combined Axial and Bending Resistance"
   ]
  },
  {
   "cell_type": "markdown",
   "metadata": {},
   "source": [
    "### Strong axis (x)"
   ]
  },
  {
   "cell_type": "code",
   "execution_count": 1367,
   "metadata": {},
   "outputs": [
    {
     "data": {
      "text/latex": [
       "\\[\n",
       "\\begin{aligned}\n",
       "\\mathrm{DCR}_{AXIAL_{X}} &= 5.005 \\times 10 ^ {-1 } \\; \n",
       "\\\\[10pt]\n",
       "\\mathrm{DCR}_{COMBINED_{X}} &= \\left( \\frac{ P_{f} }{ P_{r_{x}} } \\right) ^{ 2 } + \\frac{ M_{f_{x_{total}}} }{ M_{r_{x}} } \\cdot K_{mo_{2nd_{x}}}  = \\left( \\frac{ 2.024\\ \\text{MN} }{ 4.044\\ \\text{MN} } \\right) ^{ 2 } + \\frac{ 60.720\\ \\text{kN} \\cdot \\text{m} }{ 229.492\\ \\text{kN} \\cdot \\text{m} } \\cdot 1.046 &= 5.274 \\times 10 ^ {-1 }  \n",
       "\\end{aligned}\n",
       "\\]"
      ],
      "text/plain": [
       "<IPython.core.display.Latex object>"
      ]
     },
     "metadata": {},
     "output_type": "display_data"
    }
   ],
   "source": [
    "%%render\n",
    "DCR_AXIAL_X = (P_f / P_r_x)\n",
    "DCR_COMBINED_X = (P_f / P_r_x)**2 + M_f_x_total/M_r_x * K_mo_2nd_x"
   ]
  },
  {
   "cell_type": "markdown",
   "metadata": {},
   "source": [
    "### Weak axis (y)"
   ]
  },
  {
   "cell_type": "code",
   "execution_count": 1368,
   "metadata": {},
   "outputs": [
    {
     "data": {
      "text/latex": [
       "\\[\n",
       "\\begin{aligned}\n",
       "\\mathrm{DCR}_{AXIAL_{Y}} &= 6.619 \\times 10 ^ {-1 } \\; \n",
       "\\\\[10pt]\n",
       "\\mathrm{DCR}_{COMBINED_{Y}} &= \\left( \\frac{ P_{f} }{ P_{r_{y}} } \\right) ^{ 2 } + \\frac{ M_{f_{y_{total}}} }{ M_{r_{x}} } \\cdot K_{mo_{2nd_{y}}}  = \\left( \\frac{ 2.024\\ \\text{MN} }{ 3.058\\ \\text{MN} } \\right) ^{ 2 } + \\frac{ 40.480\\ \\text{kN} \\cdot \\text{m} }{ 229.492\\ \\text{kN} \\cdot \\text{m} } \\cdot 1.454 &= 6.945 \\times 10 ^ {-1 }  \n",
       "\\end{aligned}\n",
       "\\]"
      ],
      "text/plain": [
       "<IPython.core.display.Latex object>"
      ]
     },
     "metadata": {},
     "output_type": "display_data"
    }
   ],
   "source": [
    "%%render\n",
    "DCR_AXIAL_Y = (P_f / P_r_y)\n",
    "DCR_COMBINED_Y = (P_f / P_r_y)**2 + M_f_y_total/M_r_x * K_mo_2nd_y"
   ]
  },
  {
   "cell_type": "code",
   "execution_count": null,
   "metadata": {},
   "outputs": [],
   "source": []
  }
 ],
 "metadata": {
  "kernelspec": {
   "display_name": "Python 3 (ipykernel)",
   "language": "python",
   "name": "python3"
  },
  "language_info": {
   "codemirror_mode": {
    "name": "ipython",
    "version": 3
   },
   "file_extension": ".py",
   "mimetype": "text/x-python",
   "name": "python",
   "nbconvert_exporter": "python",
   "pygments_lexer": "ipython3",
   "version": "3.9.7"
  }
 },
 "nbformat": 4,
 "nbformat_minor": 4
}
